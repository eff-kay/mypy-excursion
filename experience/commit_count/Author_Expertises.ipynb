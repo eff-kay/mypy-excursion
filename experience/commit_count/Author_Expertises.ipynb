{
 "cells": [
  {
   "cell_type": "code",
   "execution_count": 1,
   "metadata": {},
   "outputs": [],
   "source": [
    "import subprocess\n",
    "import os\n",
    "import pandas as pd\n",
    "from functools import reduce\n",
    "import matplotlib.pyplot as plt\n",
    "from dateutil.relativedelta import relativedelta\n",
    "from datetime import datetime\n",
    "from tqdm.notebook import tqdm\n",
    "import cliffsDelta"
   ]
  },
  {
   "cell_type": "markdown",
   "metadata": {},
   "source": [
    "# Class Definition (git helper)"
   ]
  },
  {
   "cell_type": "code",
   "execution_count": 2,
   "metadata": {},
   "outputs": [],
   "source": [
    "class GitCommander:\n",
    "    SAVE_CURRENT_WORKING_DIRECTORY = 'CURR_DIR=$PWD'\n",
    "    GO_BACK_TO_WORKING_DIRECTORY = 'cd $CURR_DIR'\n",
    "\n",
    "    GIT_LOG = \"git log --format='%H;%at'\"\n",
    "\n",
    "    def getHead(self):\n",
    "        return subprocess.check_output(\n",
    "            f'git rev-parse HEAD',\n",
    "        shell=True).decode('utf-8')\n",
    "\n",
    "\n",
    "    def checkout(self, commit):\n",
    "        checkoutCommand = \"git checkout \"+commit\n",
    "\n",
    "        return subprocess.check_output(\n",
    "            checkoutCommand,\n",
    "         shell=True).decode('utf-8')\n",
    "\n",
    "\n",
    "    def gitBlame(self, file, startLine, endLine, commit = None):\n",
    "        if commit:\n",
    "            blameCommand = \"git blame {} -p {} -L {},{}\".format(commit, file, startLine, endLine)\n",
    "        else:\n",
    "            blameCommand = \"git blame -p {} -L {},{}\".format(file, startLine, endLine)\n",
    "\n",
    "        blameText = subprocess.check_output(\n",
    "            blameCommand,\n",
    "        shell=True).decode('utf-8')\n",
    "        \n",
    "        if blameText.count('\\n') <= 1:\n",
    "            return None\n",
    "        else:\n",
    "            return blameText\n",
    "        \n",
    "    def getModifiedLinesFromGitDiff(self, headCommit, commitToCompare):\n",
    "        diffCommand = \"git diff {} {} -U0 | grep -Po '^--- ./\\K.*|^@@ -\\K[0-9]+(,[0-9]+)?(?= \\+[0-9]+(,[0-9]+)? @@)'\".format(headCommit, commitToCompare)\n",
    "        \n",
    "        diffText = subprocess.check_output(\n",
    "            diffCommand,\n",
    "        shell=True).decode('utf-8')\n",
    "        \n",
    "        return diffText\n",
    "\n",
    "    def gitLogInline(self, commit = 'HEAD', author = None):\n",
    "        if author:\n",
    "            logCommand = 'git log {} --author=\"{}\" --format=\"%H;%s;%an;%ct\"'.format(commit, author)\n",
    "        else:\n",
    "            logCommand = 'git log {} --format=\"%H;%s;%an;%ct\"'.format(commit)\n",
    "            \n",
    "        logText = subprocess.check_output(\n",
    "            logCommand,\n",
    "            shell=True).decode('latin-1')\n",
    "        return logText.split('\\n')[:-1] # will always have an empty line at the end of the output\n",
    "    \n",
    "    def parseGitBlame(self, text):\n",
    "        returnHash = {}\n",
    "        splitText = text.split(\"\\n\")\n",
    "        firstLine = splitText[0]\n",
    "        commitId = firstLine.split(\" \")[0]\n",
    "        secondLine = splitText[1]\n",
    "        authorName = secondLine.split(\" \")[1:]\n",
    "        fullname = reduce(lambda a, b: a + ' ' + b, authorName)\n",
    "        return [fullname, commitId]\n"
   ]
  },
  {
   "cell_type": "markdown",
   "metadata": {},
   "source": [
    "# Analysis 1: Experience of Type Error Committers"
   ]
  },
  {
   "cell_type": "code",
   "execution_count": 22,
   "metadata": {},
   "outputs": [],
   "source": [
    "# Assume the working directory is already switched to the required working directory\n",
    "def process_defect(commit, file, start_line, end_line):\n",
    "    commander = GitCommander()\n",
    "    blame = commander.parseGitBlame(commander.gitBlame(file, start_line, end_line, commit))\n",
    "    blame_author = blame[0]\n",
    "    blame_commit = blame[1] #use the full commit id\n",
    "    author_commits = commander.gitLogInline(blame_commit, blame_author)\n",
    "    \n",
    "    type_err_commit = author_commits[0].split(';')\n",
    "    first_commit = author_commits[-1].split(';')\n",
    "    formatted_time = timeDeltaMonth(int(first_commit[-1]), int(type_err_commit[-1]))\n",
    "    repo_commits = commander.gitLogInline(blame_commit)\n",
    "    \n",
    "    # length -1 to exclude the most recent type error commit\n",
    "    return [blame_commit, blame_author, len(author_commits) - 1, len(repo_commits) - 1, formatted_time]\n",
    "    "
   ]
  },
  {
   "cell_type": "code",
   "execution_count": 23,
   "metadata": {},
   "outputs": [],
   "source": [
    "def timeDeltaMonth(time1, time2):\n",
    "    time1 = datetime.fromtimestamp(time1)\n",
    "    time2 = datetime.fromtimestamp(time2)\n",
    "    delta = relativedelta(time2, time1)\n",
    "    return delta.years * 12 + delta.months"
   ]
  },
  {
   "cell_type": "code",
   "execution_count": 26,
   "metadata": {},
   "outputs": [],
   "source": [
    "working_directory = 'C:/Users/chenp/Documents/Mypy-Labelling/'\n",
    "os.chdir(working_directory)\n",
    "defects_info = pd.read_csv('defect_authoring.csv')\n",
    "\n",
    "defects_info['directory'] = defects_info['directory'].apply(lambda li: working_directory + li)\n",
    "cwd = os.getcwd()"
   ]
  },
  {
   "cell_type": "code",
   "execution_count": 27,
   "metadata": {},
   "outputs": [],
   "source": [
    "stats = pd.DataFrame([], columns = ['line number', 'filename', 'commit id','issue id', 'buggy commit', 'buggy author', 'author experience', 'project progress', 'timedelta (month)'])\n",
    "for index, defect in defects_info.iterrows():\n",
    "    os.chdir(defect['directory'])\n",
    "    lines = defect['type error lines'].split(', ')\n",
    "    \n",
    "    for line in lines:\n",
    "        row = process_defect(defect['buggy commit'], defect['file path'], line, line)\n",
    "        row.insert(0, line)\n",
    "        row.insert(1, defect['file path'])\n",
    "        row.insert(2, defect['buggy commit'])\n",
    "        row.insert(3, defect['issue id'])\n",
    "        stats.loc[0 if pd.isnull(stats.index.max()) else stats.index.max() + 1] = row\n",
    "    os.chdir(cwd)\n",
    "stats.to_csv('type.csv')"
   ]
  },
  {
   "cell_type": "code",
   "execution_count": 7,
   "metadata": {},
   "outputs": [
    {
     "data": {
      "text/plain": [
       "(array([32.,  7.,  2.,  4.,  0.,  1.,  0.,  0.,  2.,  1.]),\n",
       " array([0. , 0.1, 0.2, 0.3, 0.4, 0.5, 0.6, 0.7, 0.8, 0.9, 1. ]),\n",
       " <a list of 10 Patch objects>)"
      ]
     },
     "execution_count": 7,
     "metadata": {},
     "output_type": "execute_result"
    },
    {
     "data": {
      "image/png": "[encoded data removed]",
      "text/plain": [
       "<Figure size 432x288 with 1 Axes>"
      ]
     },
     "metadata": {
      "needs_background": "light"
     },
     "output_type": "display_data"
    }
   ],
   "source": [
    "experiences = stats['author experience']\n",
    "progresses = stats['project progress']\n",
    "max_exp = max(experiences)\n",
    "experiences = [i / max_exp for i in experiences]\n",
    "plt.hist(experiences)"
   ]
  },
  {
   "cell_type": "code",
   "execution_count": 9,
   "metadata": {},
   "outputs": [
    {
     "name": "stdout",
     "output_type": "stream",
     "text": [
      "0.01585660117200965\n"
     ]
    },
    {
     "data": {
      "image/png": "[encoded data removed]",
      "text/plain": [
       "<Figure size 432x288 with 1 Axes>"
      ]
     },
     "metadata": {
      "needs_background": "light"
     },
     "output_type": "display_data"
    }
   ],
   "source": [
    "experiences = stats['author experience']\n",
    "progresses = stats['project progress']\n",
    "ratios = [experiences[i] / progresses[i] for i in range(len(experiences))]\n",
    "plt.hist(ratios)\n",
    "print(ratios[31])"
   ]
  },
  {
   "cell_type": "code",
   "execution_count": 10,
   "metadata": {},
   "outputs": [
    {
     "data": {
      "text/plain": [
       "(array([20., 10.,  1.,  5.,  3.,  4.,  2.,  0.,  1.,  3.]),\n",
       " array([0.0, 6.9, 13.8, 20.700000000000003, 27.6, 34.5, 41.400000000000006,\n",
       "        48.300000000000004, 55.2, 62.1, 69.0], dtype=object),\n",
       " <a list of 10 Patch objects>)"
      ]
     },
     "execution_count": 10,
     "metadata": {},
     "output_type": "execute_result"
    },
    {
     "data": {
      "image/png": "[encoded data removed]",
      "text/plain": [
       "<Figure size 432x288 with 1 Axes>"
      ]
     },
     "metadata": {
      "needs_background": "light"
     },
     "output_type": "display_data"
    }
   ],
   "source": [
    "plt.hist(stats['timedelta (month)'])"
   ]
  },
  {
   "cell_type": "markdown",
   "metadata": {},
   "source": [
    "# Analysis 2: Experience of Non-Type Error Committers"
   ]
  },
  {
   "cell_type": "code",
   "execution_count": 28,
   "metadata": {},
   "outputs": [],
   "source": [
    "# Assume the working directory is already switched to the required working directory\n",
    "def analysis_all_modified_lines():\n",
    "    pass"
   ]
  },
  {
   "cell_type": "code",
   "execution_count": 29,
   "metadata": {},
   "outputs": [],
   "source": [
    "typeLineSet = set()\n",
    "for index, info in stats.iterrows():\n",
    "    typeLineSet.add(info['line number'] + info['filename'] + info['commit id'])"
   ]
  },
  {
   "cell_type": "code",
   "execution_count": 83,
   "metadata": {},
   "outputs": [],
   "source": [
    "def get_line_changes_for_py_files(lines):\n",
    "    lineMap = {}\n",
    "    # go over the commit change to record all the lines change for python files\n",
    "    i = 0\n",
    "    lineCount = 0\n",
    "    while i < len(lines):\n",
    "        while i < len(lines) and '.py' not in lines[i]:\n",
    "            i += 1\n",
    "\n",
    "        if i >= len(lines): break\n",
    "\n",
    "        filename = lines[i]\n",
    "        lineMap[filename] = []\n",
    "        i += 1\n",
    "\n",
    "        while i < len(lines):\n",
    "            if lines[i].isdigit():\n",
    "                lineMap[filename].append(int(lines[i]))\n",
    "                lineCount += 1\n",
    "            elif ',' in lines[i]:\n",
    "                line = lines[i].split(',')\n",
    "                start = int(line[0])\n",
    "                count = int(line[1])\n",
    "                for j in range(0, count):\n",
    "                    lineMap[filename].append(start + j)\n",
    "                    lineCount += 1\n",
    "            else:\n",
    "                break\n",
    "            i += 1\n",
    "    return (lineMap, lineCount)\n",
    "\n",
    "def get_blame_stats(commit, lineMap, count=0):\n",
    "    stats = []\n",
    "    \n",
    "    if count > 0:\n",
    "        pBar = tqdm(total = count, leave=False)\n",
    "    \n",
    "    for key in lineMap:\n",
    "        for line in lineMap[key]:\n",
    "            # ignore type-related lines\n",
    "            if '{}{}{}'.format(line, key, commit) not in typeLineSet:\n",
    "                row = process_defect(commit, key, line, line)\n",
    "                row = [line, key, commit] + row\n",
    "                stats.append(row)\n",
    "            if count > 0:\n",
    "                pBar.update(1)\n",
    "    \n",
    "    if count > 0:\n",
    "        pBar.close()\n",
    "        \n",
    "    return stats\n",
    "            \n",
    "def process_commit_blame(defect):\n",
    "    os.chdir(cwd)\n",
    "\n",
    "    os.chdir(defect['directory'])\n",
    "    headCommit = defect['buggy commit']\n",
    "    commitToCompare = defect['fix commit']\n",
    "    diffCommand = \"git diff {} {} -U0 | grep -Po '^--- ./\\K.*|^@@ -\\K[0-9]+(,[0-9]+)?(?= \\+[0-9]+(,[0-9]+)? @@)'\".format(headCommit, commitToCompare)\n",
    "    \n",
    "    # execute the diff command with grep pattern matching in a spawned child bash shell for windows\n",
    "    with subprocess.Popen(['sh'],stdout=subprocess.PIPE, stdin=subprocess.PIPE, stderr=subprocess.PIPE, shell=True) as process:\n",
    "        output = process.communicate(diffCommand.encode())[0].decode('utf-8')\n",
    "    \n",
    "    output = output.split('\\n')\n",
    "    (lineMap, count) = get_line_changes_for_py_files(output)\n",
    "    authorStats = get_blame_stats(headCommit, lineMap, count)\n",
    "    \n",
    "    os.chdir(cwd)\n",
    "    return authorStats"
   ]
  },
  {
   "cell_type": "code",
   "execution_count": 84,
   "metadata": {},
   "outputs": [
    {
     "data": {
      "application/vnd.jupyter.widget-view+json": {
       "model_id": "26373416843c480abca2b881e6f50ee8",
       "version_major": 2,
       "version_minor": 0
      },
      "text/plain": [
       "HBox(children=(FloatProgress(value=0.0, max=40.0), HTML(value='')))"
      ]
     },
     "metadata": {},
     "output_type": "display_data"
    },
    {
     "name": "stdout",
     "output_type": "stream",
     "text": [
      "C:\\Users\\chenp\\Documents\\Mypy-Labelling\\4\\ansible\n"
     ]
    },
    {
     "data": {
      "application/vnd.jupyter.widget-view+json": {
       "model_id": "",
       "version_major": 2,
       "version_minor": 0
      },
      "text/plain": [
       "HBox(children=(FloatProgress(value=0.0, max=7.0), HTML(value='')))"
      ]
     },
     "metadata": {},
     "output_type": "display_data"
    },
    {
     "name": "stdout",
     "output_type": "stream",
     "text": [
      "C:\\Users\\chenp\\Documents\\Mypy-Labelling\\16\\nupic\n"
     ]
    },
    {
     "data": {
      "application/vnd.jupyter.widget-view+json": {
       "model_id": "",
       "version_major": 2,
       "version_minor": 0
      },
      "text/plain": [
       "HBox(children=(FloatProgress(value=0.0, max=3.0), HTML(value='')))"
      ]
     },
     "metadata": {},
     "output_type": "display_data"
    },
    {
     "name": "stdout",
     "output_type": "stream",
     "text": [
      "C:\\Users\\chenp\\Documents\\Mypy-Labelling\\34\\MikaLendingBot\n"
     ]
    },
    {
     "data": {
      "application/vnd.jupyter.widget-view+json": {
       "model_id": "",
       "version_major": 2,
       "version_minor": 0
      },
      "text/plain": [
       "HBox(children=(FloatProgress(value=0.0, max=123.0), HTML(value='')))"
      ]
     },
     "metadata": {},
     "output_type": "display_data"
    },
    {
     "name": "stdout",
     "output_type": "stream",
     "text": [
      "C:\\Users\\chenp\\Documents\\Mypy-Labelling\\35\\ansible\n"
     ]
    },
    {
     "data": {
      "application/vnd.jupyter.widget-view+json": {
       "model_id": "",
       "version_major": 2,
       "version_minor": 0
      },
      "text/plain": [
       "HBox(children=(FloatProgress(value=0.0, max=2.0), HTML(value='')))"
      ]
     },
     "metadata": {},
     "output_type": "display_data"
    },
    {
     "name": "stdout",
     "output_type": "stream",
     "text": [
      "C:\\Users\\chenp\\Documents\\Mypy-Labelling\\38\\ansible\n"
     ]
    },
    {
     "data": {
      "application/vnd.jupyter.widget-view+json": {
       "model_id": "",
       "version_major": 2,
       "version_minor": 0
      },
      "text/plain": [
       "HBox(children=(FloatProgress(value=0.0, max=13.0), HTML(value='')))"
      ]
     },
     "metadata": {},
     "output_type": "display_data"
    },
    {
     "name": "stdout",
     "output_type": "stream",
     "text": [
      "C:\\Users\\chenp\\Documents\\Mypy-Labelling\\42\\ansible\n"
     ]
    },
    {
     "data": {
      "application/vnd.jupyter.widget-view+json": {
       "model_id": "",
       "version_major": 2,
       "version_minor": 0
      },
      "text/plain": [
       "HBox(children=(FloatProgress(value=0.0, max=4.0), HTML(value='')))"
      ]
     },
     "metadata": {},
     "output_type": "display_data"
    },
    {
     "name": "stdout",
     "output_type": "stream",
     "text": [
      "C:\\Users\\chenp\\Documents\\Mypy-Labelling\\44\\blaze\n"
     ]
    },
    {
     "data": {
      "application/vnd.jupyter.widget-view+json": {
       "model_id": "",
       "version_major": 2,
       "version_minor": 0
      },
      "text/plain": [
       "HBox(children=(FloatProgress(value=0.0, max=6.0), HTML(value='')))"
      ]
     },
     "metadata": {},
     "output_type": "display_data"
    },
    {
     "name": "stdout",
     "output_type": "stream",
     "text": [
      "C:\\Users\\chenp\\Documents\\Mypy-Labelling\\47\\manticore\n"
     ]
    },
    {
     "data": {
      "application/vnd.jupyter.widget-view+json": {
       "model_id": "",
       "version_major": 2,
       "version_minor": 0
      },
      "text/plain": [
       "HBox(children=(FloatProgress(value=0.0, max=3.0), HTML(value='')))"
      ]
     },
     "metadata": {},
     "output_type": "display_data"
    },
    {
     "name": "stdout",
     "output_type": "stream",
     "text": [
      "C:\\Users\\chenp\\Documents\\Mypy-Labelling\\50\\ansible\n"
     ]
    },
    {
     "data": {
      "application/vnd.jupyter.widget-view+json": {
       "model_id": "",
       "version_major": 2,
       "version_minor": 0
      },
      "text/plain": [
       "HBox(children=(FloatProgress(value=0.0, max=6.0), HTML(value='')))"
      ]
     },
     "metadata": {},
     "output_type": "display_data"
    },
    {
     "name": "stdout",
     "output_type": "stream",
     "text": [
      "C:\\Users\\chenp\\Documents\\Mypy-Labelling\\56\\b2share\n"
     ]
    },
    {
     "data": {
      "application/vnd.jupyter.widget-view+json": {
       "model_id": "",
       "version_major": 2,
       "version_minor": 0
      },
      "text/plain": [
       "HBox(children=(FloatProgress(value=0.0, max=70.0), HTML(value='')))"
      ]
     },
     "metadata": {},
     "output_type": "display_data"
    },
    {
     "name": "stdout",
     "output_type": "stream",
     "text": [
      "C:\\Users\\chenp\\Documents\\Mypy-Labelling\\61\\streamalert\n"
     ]
    },
    {
     "data": {
      "application/vnd.jupyter.widget-view+json": {
       "model_id": "",
       "version_major": 2,
       "version_minor": 0
      },
      "text/plain": [
       "HBox(children=(FloatProgress(value=0.0, max=1.0), HTML(value='')))"
      ]
     },
     "metadata": {},
     "output_type": "display_data"
    },
    {
     "name": "stdout",
     "output_type": "stream",
     "text": [
      "C:\\Users\\chenp\\Documents\\Mypy-Labelling\\64\\ansible\n"
     ]
    },
    {
     "data": {
      "application/vnd.jupyter.widget-view+json": {
       "model_id": "",
       "version_major": 2,
       "version_minor": 0
      },
      "text/plain": [
       "HBox(children=(FloatProgress(value=0.0, max=1.0), HTML(value='')))"
      ]
     },
     "metadata": {},
     "output_type": "display_data"
    },
    {
     "name": "stdout",
     "output_type": "stream",
     "text": [
      "C:\\Users\\chenp\\Documents\\Mypy-Labelling\\70\\pandas\n"
     ]
    },
    {
     "data": {
      "application/vnd.jupyter.widget-view+json": {
       "model_id": "",
       "version_major": 2,
       "version_minor": 0
      },
      "text/plain": [
       "HBox(children=(FloatProgress(value=0.0, max=2.0), HTML(value='')))"
      ]
     },
     "metadata": {},
     "output_type": "display_data"
    },
    {
     "name": "stdout",
     "output_type": "stream",
     "text": [
      "C:\\Users\\chenp\\Documents\\Mypy-Labelling\\74\\ansible\n"
     ]
    },
    {
     "data": {
      "application/vnd.jupyter.widget-view+json": {
       "model_id": "",
       "version_major": 2,
       "version_minor": 0
      },
      "text/plain": [
       "HBox(children=(FloatProgress(value=0.0, max=1.0), HTML(value='')))"
      ]
     },
     "metadata": {},
     "output_type": "display_data"
    },
    {
     "name": "stdout",
     "output_type": "stream",
     "text": [
      "C:\\Users\\chenp\\Documents\\Mypy-Labelling\\84\\docido-python-sdk\n"
     ]
    },
    {
     "data": {
      "application/vnd.jupyter.widget-view+json": {
       "model_id": "",
       "version_major": 2,
       "version_minor": 0
      },
      "text/plain": [
       "HBox(children=(FloatProgress(value=0.0, max=1.0), HTML(value='')))"
      ]
     },
     "metadata": {},
     "output_type": "display_data"
    },
    {
     "name": "stdout",
     "output_type": "stream",
     "text": [
      "C:\\Users\\chenp\\Documents\\Mypy-Labelling\\87\\astropy\n"
     ]
    },
    {
     "data": {
      "application/vnd.jupyter.widget-view+json": {
       "model_id": "",
       "version_major": 2,
       "version_minor": 0
      },
      "text/plain": [
       "HBox(children=(FloatProgress(value=0.0, max=7.0), HTML(value='')))"
      ]
     },
     "metadata": {},
     "output_type": "display_data"
    },
    {
     "name": "stdout",
     "output_type": "stream",
     "text": [
      "C:\\Users\\chenp\\Documents\\Mypy-Labelling\\88\\django-shop\n",
      "C:\\Users\\chenp\\Documents\\Mypy-Labelling\\100\\LinuxGSM\n"
     ]
    },
    {
     "data": {
      "application/vnd.jupyter.widget-view+json": {
       "model_id": "",
       "version_major": 2,
       "version_minor": 0
      },
      "text/plain": [
       "HBox(children=(FloatProgress(value=0.0, max=8.0), HTML(value='')))"
      ]
     },
     "metadata": {},
     "output_type": "display_data"
    },
    {
     "name": "stdout",
     "output_type": "stream",
     "text": [
      "C:\\Users\\chenp\\Documents\\Mypy-Labelling\\110\\ensime-vim\n"
     ]
    },
    {
     "data": {
      "application/vnd.jupyter.widget-view+json": {
       "model_id": "",
       "version_major": 2,
       "version_minor": 0
      },
      "text/plain": [
       "HBox(children=(FloatProgress(value=0.0, max=2.0), HTML(value='')))"
      ]
     },
     "metadata": {},
     "output_type": "display_data"
    },
    {
     "name": "stdout",
     "output_type": "stream",
     "text": [
      "C:\\Users\\chenp\\Documents\\Mypy-Labelling\\115\\ansible\n"
     ]
    },
    {
     "data": {
      "application/vnd.jupyter.widget-view+json": {
       "model_id": "",
       "version_major": 2,
       "version_minor": 0
      },
      "text/plain": [
       "HBox(children=(FloatProgress(value=0.0, max=19.0), HTML(value='')))"
      ]
     },
     "metadata": {},
     "output_type": "display_data"
    },
    {
     "name": "stdout",
     "output_type": "stream",
     "text": [
      "C:\\Users\\chenp\\Documents\\Mypy-Labelling\\117\\ansible\n"
     ]
    },
    {
     "data": {
      "application/vnd.jupyter.widget-view+json": {
       "model_id": "",
       "version_major": 2,
       "version_minor": 0
      },
      "text/plain": [
       "HBox(children=(FloatProgress(value=0.0, max=1.0), HTML(value='')))"
      ]
     },
     "metadata": {},
     "output_type": "display_data"
    },
    {
     "name": "stdout",
     "output_type": "stream",
     "text": [
      "C:\\Users\\chenp\\Documents\\Mypy-Labelling\\128\\ansible\n"
     ]
    },
    {
     "data": {
      "application/vnd.jupyter.widget-view+json": {
       "model_id": "",
       "version_major": 2,
       "version_minor": 0
      },
      "text/plain": [
       "HBox(children=(FloatProgress(value=0.0, max=9.0), HTML(value='')))"
      ]
     },
     "metadata": {},
     "output_type": "display_data"
    },
    {
     "name": "stdout",
     "output_type": "stream",
     "text": [
      "C:\\Users\\chenp\\Documents\\Mypy-Labelling\\144\\maltrieve\n",
      "C:\\Users\\chenp\\Documents\\Mypy-Labelling\\158\\astropy\n"
     ]
    },
    {
     "data": {
      "application/vnd.jupyter.widget-view+json": {
       "model_id": "",
       "version_major": 2,
       "version_minor": 0
      },
      "text/plain": [
       "HBox(children=(FloatProgress(value=0.0, max=1.0), HTML(value='')))"
      ]
     },
     "metadata": {},
     "output_type": "display_data"
    },
    {
     "name": "stdout",
     "output_type": "stream",
     "text": [
      "C:\\Users\\chenp\\Documents\\Mypy-Labelling\\161\\ansible\n"
     ]
    },
    {
     "data": {
      "application/vnd.jupyter.widget-view+json": {
       "model_id": "",
       "version_major": 2,
       "version_minor": 0
      },
      "text/plain": [
       "HBox(children=(FloatProgress(value=0.0, max=2.0), HTML(value='')))"
      ]
     },
     "metadata": {},
     "output_type": "display_data"
    },
    {
     "name": "stdout",
     "output_type": "stream",
     "text": [
      "C:\\Users\\chenp\\Documents\\Mypy-Labelling\\218\\ansible\n"
     ]
    },
    {
     "data": {
      "application/vnd.jupyter.widget-view+json": {
       "model_id": "",
       "version_major": 2,
       "version_minor": 0
      },
      "text/plain": [
       "HBox(children=(FloatProgress(value=0.0, max=1.0), HTML(value='')))"
      ]
     },
     "metadata": {},
     "output_type": "display_data"
    },
    {
     "name": "stdout",
     "output_type": "stream",
     "text": [
      "C:\\Users\\chenp\\Documents\\Mypy-Labelling\\222\\ansible\n"
     ]
    },
    {
     "data": {
      "application/vnd.jupyter.widget-view+json": {
       "model_id": "",
       "version_major": 2,
       "version_minor": 0
      },
      "text/plain": [
       "HBox(children=(FloatProgress(value=0.0, max=3.0), HTML(value='')))"
      ]
     },
     "metadata": {},
     "output_type": "display_data"
    },
    {
     "name": "stdout",
     "output_type": "stream",
     "text": [
      "C:\\Users\\chenp\\Documents\\Mypy-Labelling\\230\\terra-terminal\n"
     ]
    },
    {
     "data": {
      "application/vnd.jupyter.widget-view+json": {
       "model_id": "",
       "version_major": 2,
       "version_minor": 0
      },
      "text/plain": [
       "HBox(children=(FloatProgress(value=0.0, max=6.0), HTML(value='')))"
      ]
     },
     "metadata": {},
     "output_type": "display_data"
    },
    {
     "name": "stdout",
     "output_type": "stream",
     "text": [
      "C:\\Users\\chenp\\Documents\\Mypy-Labelling\\248\\streamalert\n"
     ]
    },
    {
     "data": {
      "application/vnd.jupyter.widget-view+json": {
       "model_id": "",
       "version_major": 2,
       "version_minor": 0
      },
      "text/plain": [
       "HBox(children=(FloatProgress(value=0.0, max=1.0), HTML(value='')))"
      ]
     },
     "metadata": {},
     "output_type": "display_data"
    },
    {
     "name": "stdout",
     "output_type": "stream",
     "text": [
      "C:\\Users\\chenp\\Documents\\Mypy-Labelling\\285\\inspire-next\n"
     ]
    },
    {
     "data": {
      "application/vnd.jupyter.widget-view+json": {
       "model_id": "",
       "version_major": 2,
       "version_minor": 0
      },
      "text/plain": [
       "HBox(children=(FloatProgress(value=0.0, max=2.0), HTML(value='')))"
      ]
     },
     "metadata": {},
     "output_type": "display_data"
    },
    {
     "name": "stdout",
     "output_type": "stream",
     "text": [
      "C:\\Users\\chenp\\Documents\\Mypy-Labelling\\291\\incubator-superset\n"
     ]
    },
    {
     "data": {
      "application/vnd.jupyter.widget-view+json": {
       "model_id": "",
       "version_major": 2,
       "version_minor": 0
      },
      "text/plain": [
       "HBox(children=(FloatProgress(value=0.0, max=1.0), HTML(value='')))"
      ]
     },
     "metadata": {},
     "output_type": "display_data"
    },
    {
     "name": "stdout",
     "output_type": "stream",
     "text": [
      "C:\\Users\\chenp\\Documents\\Mypy-Labelling\\318\\ansible\n"
     ]
    },
    {
     "data": {
      "application/vnd.jupyter.widget-view+json": {
       "model_id": "",
       "version_major": 2,
       "version_minor": 0
      },
      "text/plain": [
       "HBox(children=(FloatProgress(value=0.0, max=1.0), HTML(value='')))"
      ]
     },
     "metadata": {},
     "output_type": "display_data"
    },
    {
     "name": "stdout",
     "output_type": "stream",
     "text": [
      "C:\\Users\\chenp\\Documents\\Mypy-Labelling\\325\\SoCo\n"
     ]
    },
    {
     "data": {
      "application/vnd.jupyter.widget-view+json": {
       "model_id": "",
       "version_major": 2,
       "version_minor": 0
      },
      "text/plain": [
       "HBox(children=(FloatProgress(value=0.0, max=2.0), HTML(value='')))"
      ]
     },
     "metadata": {},
     "output_type": "display_data"
    },
    {
     "name": "stdout",
     "output_type": "stream",
     "text": [
      "C:\\Users\\chenp\\Documents\\Mypy-Labelling\\327\\osmaxx\n"
     ]
    },
    {
     "data": {
      "application/vnd.jupyter.widget-view+json": {
       "model_id": "",
       "version_major": 2,
       "version_minor": 0
      },
      "text/plain": [
       "HBox(children=(FloatProgress(value=0.0, max=18.0), HTML(value='')))"
      ]
     },
     "metadata": {},
     "output_type": "display_data"
    },
    {
     "name": "stdout",
     "output_type": "stream",
     "text": [
      "C:\\Users\\chenp\\Documents\\Mypy-Labelling\\329\\eq-survey-runner\n",
      "C:\\Users\\chenp\\Documents\\Mypy-Labelling\\363\\tribler\n",
      "C:\\Users\\chenp\\Documents\\Mypy-Labelling\\387\\ansible\n"
     ]
    },
    {
     "data": {
      "application/vnd.jupyter.widget-view+json": {
       "model_id": "",
       "version_major": 2,
       "version_minor": 0
      },
      "text/plain": [
       "HBox(children=(FloatProgress(value=0.0, max=16.0), HTML(value='')))"
      ]
     },
     "metadata": {},
     "output_type": "display_data"
    },
    {
     "name": "stdout",
     "output_type": "stream",
     "text": [
      "C:\\Users\\chenp\\Documents\\Mypy-Labelling\\391\\ansible\n"
     ]
    },
    {
     "data": {
      "application/vnd.jupyter.widget-view+json": {
       "model_id": "",
       "version_major": 2,
       "version_minor": 0
      },
      "text/plain": [
       "HBox(children=(FloatProgress(value=0.0, max=4.0), HTML(value='')))"
      ]
     },
     "metadata": {},
     "output_type": "display_data"
    },
    {
     "name": "stdout",
     "output_type": "stream",
     "text": [
      "C:\\Users\\chenp\\Documents\\Mypy-Labelling\\397\\tribler\n"
     ]
    },
    {
     "data": {
      "application/vnd.jupyter.widget-view+json": {
       "model_id": "",
       "version_major": 2,
       "version_minor": 0
      },
      "text/plain": [
       "HBox(children=(FloatProgress(value=0.0, max=199.0), HTML(value='')))"
      ]
     },
     "metadata": {},
     "output_type": "display_data"
    }
   ],
   "source": [
    "idSet = set()\n",
    "nonTypeStats = pd.DataFrame([], columns = ['line number', 'filename', 'commit id', 'buggy commit', 'buggy author', 'author experience', 'project progress', 'timedelta (month)'])\n",
    "\n",
    "pBar = tqdm(total=defects_info.shape[0], leave=False)\n",
    "for index, defect in defects_info.iterrows():\n",
    "    if defect['id'] not in idSet:\n",
    "        rows = process_commit_blame(defect)\n",
    "        for row in rows:\n",
    "            nonTypeStats.loc[0 if pd.isnull(nonTypeStats.index.max()) else nonTypeStats.index.max() + 1] = row\n",
    "        idSet.add(defect['id'])\n",
    "    pBar.update(1)\n",
    "nonTypeStats.to_csv('non_type.csv')"
   ]
  },
  {
   "cell_type": "code",
   "execution_count": 85,
   "metadata": {},
   "outputs": [],
   "source": [
    "stats = pd.read_csv('type.csv')\n",
    "nonTypeStats = pd.read_csv('non_type.csv')"
   ]
  },
  {
   "cell_type": "code",
   "execution_count": 86,
   "metadata": {},
   "outputs": [],
   "source": [
    "\n",
    "nonTypeStatsNoDup = nonTypeStats.drop_duplicates(subset='buggy commit', ignore_index=True)\n",
    "statsNoDup = stats.drop_duplicates(subset='buggy commit', ignore_index=True)"
   ]
  },
  {
   "cell_type": "code",
   "execution_count": 87,
   "metadata": {},
   "outputs": [
    {
     "data": {
      "text/html": [
       "<div>\n",
       "<style scoped>\n",
       "    .dataframe tbody tr th:only-of-type {\n",
       "        vertical-align: middle;\n",
       "    }\n",
       "\n",
       "    .dataframe tbody tr th {\n",
       "        vertical-align: top;\n",
       "    }\n",
       "\n",
       "    .dataframe thead th {\n",
       "        text-align: right;\n",
       "    }\n",
       "</style>\n",
       "<table border=\"1\" class=\"dataframe\">\n",
       "  <thead>\n",
       "    <tr style=\"text-align: right;\">\n",
       "      <th></th>\n",
       "      <th>Unnamed: 0</th>\n",
       "      <th>line number</th>\n",
       "      <th>filename</th>\n",
       "      <th>commit id</th>\n",
       "      <th>buggy commit</th>\n",
       "      <th>buggy author</th>\n",
       "      <th>author experience</th>\n",
       "      <th>project progress</th>\n",
       "      <th>timedelta (month)</th>\n",
       "    </tr>\n",
       "  </thead>\n",
       "  <tbody>\n",
       "    <tr>\n",
       "      <th>0</th>\n",
       "      <td>0</td>\n",
       "      <td>30</td>\n",
       "      <td>lib/ansible/module_utils/iosxr.py</td>\n",
       "      <td>ec9582f</td>\n",
       "      <td>eb1453a366403d8f95208517484f632b1da09778</td>\n",
       "      <td>Peter Sprygada</td>\n",
       "      <td>616</td>\n",
       "      <td>28721</td>\n",
       "      <td>43</td>\n",
       "    </tr>\n",
       "    <tr>\n",
       "      <th>1</th>\n",
       "      <td>1</td>\n",
       "      <td>69</td>\n",
       "      <td>lib/ansible/module_utils/iosxr.py</td>\n",
       "      <td>ec9582f</td>\n",
       "      <td>7c6916f8d1af7fa6252aee7f7af73a5250c754a8</td>\n",
       "      <td>Peter Sprygada</td>\n",
       "      <td>557</td>\n",
       "      <td>27989</td>\n",
       "      <td>42</td>\n",
       "    </tr>\n",
       "    <tr>\n",
       "      <th>2</th>\n",
       "      <td>2</td>\n",
       "      <td>85</td>\n",
       "      <td>lib/ansible/module_utils/iosxr.py</td>\n",
       "      <td>ec9582f</td>\n",
       "      <td>7c6916f8d1af7fa6252aee7f7af73a5250c754a8</td>\n",
       "      <td>Peter Sprygada</td>\n",
       "      <td>557</td>\n",
       "      <td>27989</td>\n",
       "      <td>42</td>\n",
       "    </tr>\n",
       "    <tr>\n",
       "      <th>3</th>\n",
       "      <td>3</td>\n",
       "      <td>261</td>\n",
       "      <td>lib/ansible/modules/network/iosxr/iosxr_system.py</td>\n",
       "      <td>ec9582f</td>\n",
       "      <td>4cdb266dac852859f695b0555cbe49e58343e69a</td>\n",
       "      <td>Peter Sprygada</td>\n",
       "      <td>558</td>\n",
       "      <td>28007</td>\n",
       "      <td>42</td>\n",
       "    </tr>\n",
       "    <tr>\n",
       "      <th>4</th>\n",
       "      <td>4</td>\n",
       "      <td>263</td>\n",
       "      <td>lib/ansible/modules/network/iosxr/iosxr_system.py</td>\n",
       "      <td>ec9582f</td>\n",
       "      <td>4cdb266dac852859f695b0555cbe49e58343e69a</td>\n",
       "      <td>Peter Sprygada</td>\n",
       "      <td>558</td>\n",
       "      <td>28007</td>\n",
       "      <td>42</td>\n",
       "    </tr>\n",
       "    <tr>\n",
       "      <th>...</th>\n",
       "      <td>...</td>\n",
       "      <td>...</td>\n",
       "      <td>...</td>\n",
       "      <td>...</td>\n",
       "      <td>...</td>\n",
       "      <td>...</td>\n",
       "      <td>...</td>\n",
       "      <td>...</td>\n",
       "      <td>...</td>\n",
       "    </tr>\n",
       "    <tr>\n",
       "      <th>498</th>\n",
       "      <td>498</td>\n",
       "      <td>252</td>\n",
       "      <td>TriblerGUI/widgets/editchannelpage.py</td>\n",
       "      <td>743adf0</td>\n",
       "      <td>a5bc66e859ee117fa12ff3153176c912c3a6d1c7</td>\n",
       "      <td>Martijn de Vos</td>\n",
       "      <td>610</td>\n",
       "      <td>12291</td>\n",
       "      <td>12</td>\n",
       "    </tr>\n",
       "    <tr>\n",
       "      <th>499</th>\n",
       "      <td>499</td>\n",
       "      <td>459</td>\n",
       "      <td>TriblerGUI/widgets/editchannelpage.py</td>\n",
       "      <td>743adf0</td>\n",
       "      <td>a5bc66e859ee117fa12ff3153176c912c3a6d1c7</td>\n",
       "      <td>Martijn de Vos</td>\n",
       "      <td>610</td>\n",
       "      <td>12291</td>\n",
       "      <td>12</td>\n",
       "    </tr>\n",
       "    <tr>\n",
       "      <th>500</th>\n",
       "      <td>500</td>\n",
       "      <td>460</td>\n",
       "      <td>TriblerGUI/widgets/editchannelpage.py</td>\n",
       "      <td>743adf0</td>\n",
       "      <td>a5bc66e859ee117fa12ff3153176c912c3a6d1c7</td>\n",
       "      <td>Martijn de Vos</td>\n",
       "      <td>610</td>\n",
       "      <td>12291</td>\n",
       "      <td>12</td>\n",
       "    </tr>\n",
       "    <tr>\n",
       "      <th>501</th>\n",
       "      <td>501</td>\n",
       "      <td>461</td>\n",
       "      <td>TriblerGUI/widgets/editchannelpage.py</td>\n",
       "      <td>743adf0</td>\n",
       "      <td>a5bc66e859ee117fa12ff3153176c912c3a6d1c7</td>\n",
       "      <td>Martijn de Vos</td>\n",
       "      <td>610</td>\n",
       "      <td>12291</td>\n",
       "      <td>12</td>\n",
       "    </tr>\n",
       "    <tr>\n",
       "      <th>502</th>\n",
       "      <td>502</td>\n",
       "      <td>46</td>\n",
       "      <td>TriblerGUI/widgets/manageplaylistpage.py</td>\n",
       "      <td>743adf0</td>\n",
       "      <td>a5bc66e859ee117fa12ff3153176c912c3a6d1c7</td>\n",
       "      <td>Martijn de Vos</td>\n",
       "      <td>610</td>\n",
       "      <td>12291</td>\n",
       "      <td>12</td>\n",
       "    </tr>\n",
       "  </tbody>\n",
       "</table>\n",
       "<p>503 rows × 9 columns</p>\n",
       "</div>"
      ],
      "text/plain": [
       "     Unnamed: 0  line number  \\\n",
       "0             0           30   \n",
       "1             1           69   \n",
       "2             2           85   \n",
       "3             3          261   \n",
       "4             4          263   \n",
       "..          ...          ...   \n",
       "498         498          252   \n",
       "499         499          459   \n",
       "500         500          460   \n",
       "501         501          461   \n",
       "502         502           46   \n",
       "\n",
       "                                              filename commit id  \\\n",
       "0                    lib/ansible/module_utils/iosxr.py   ec9582f   \n",
       "1                    lib/ansible/module_utils/iosxr.py   ec9582f   \n",
       "2                    lib/ansible/module_utils/iosxr.py   ec9582f   \n",
       "3    lib/ansible/modules/network/iosxr/iosxr_system.py   ec9582f   \n",
       "4    lib/ansible/modules/network/iosxr/iosxr_system.py   ec9582f   \n",
       "..                                                 ...       ...   \n",
       "498              TriblerGUI/widgets/editchannelpage.py   743adf0   \n",
       "499              TriblerGUI/widgets/editchannelpage.py   743adf0   \n",
       "500              TriblerGUI/widgets/editchannelpage.py   743adf0   \n",
       "501              TriblerGUI/widgets/editchannelpage.py   743adf0   \n",
       "502           TriblerGUI/widgets/manageplaylistpage.py   743adf0   \n",
       "\n",
       "                                 buggy commit    buggy author  \\\n",
       "0    eb1453a366403d8f95208517484f632b1da09778  Peter Sprygada   \n",
       "1    7c6916f8d1af7fa6252aee7f7af73a5250c754a8  Peter Sprygada   \n",
       "2    7c6916f8d1af7fa6252aee7f7af73a5250c754a8  Peter Sprygada   \n",
       "3    4cdb266dac852859f695b0555cbe49e58343e69a  Peter Sprygada   \n",
       "4    4cdb266dac852859f695b0555cbe49e58343e69a  Peter Sprygada   \n",
       "..                                        ...             ...   \n",
       "498  a5bc66e859ee117fa12ff3153176c912c3a6d1c7  Martijn de Vos   \n",
       "499  a5bc66e859ee117fa12ff3153176c912c3a6d1c7  Martijn de Vos   \n",
       "500  a5bc66e859ee117fa12ff3153176c912c3a6d1c7  Martijn de Vos   \n",
       "501  a5bc66e859ee117fa12ff3153176c912c3a6d1c7  Martijn de Vos   \n",
       "502  a5bc66e859ee117fa12ff3153176c912c3a6d1c7  Martijn de Vos   \n",
       "\n",
       "     author experience  project progress  timedelta (month)  \n",
       "0                  616             28721                 43  \n",
       "1                  557             27989                 42  \n",
       "2                  557             27989                 42  \n",
       "3                  558             28007                 42  \n",
       "4                  558             28007                 42  \n",
       "..                 ...               ...                ...  \n",
       "498                610             12291                 12  \n",
       "499                610             12291                 12  \n",
       "500                610             12291                 12  \n",
       "501                610             12291                 12  \n",
       "502                610             12291                 12  \n",
       "\n",
       "[503 rows x 9 columns]"
      ]
     },
     "execution_count": 87,
     "metadata": {},
     "output_type": "execute_result"
    }
   ],
   "source": [
    "nonTypeStats"
   ]
  },
  {
   "cell_type": "markdown",
   "metadata": {},
   "source": [
    "# Ratio Normalizer"
   ]
  },
  {
   "cell_type": "code",
   "execution_count": 88,
   "metadata": {},
   "outputs": [],
   "source": [
    "def ratio(list1, list2):\n",
    "    return [list1[i] / list2[i] if list2[i] != 0 else 1 for i in range(len(list1))]\n"
   ]
  },
  {
   "cell_type": "code",
   "execution_count": 89,
   "metadata": {},
   "outputs": [
    {
     "name": "stdout",
     "output_type": "stream",
     "text": [
      "Statistics=1515.500, p=0.362\n"
     ]
    }
   ],
   "source": [
    "from scipy.stats import mannwhitneyu\n",
    "\n",
    "typeData = ratio(statsNoDup['author experience'], statsNoDup['project progress'])\n",
    "nonTypeData = ratio(nonTypeStatsNoDup['author experience'], nonTypeStatsNoDup['project progress'])\n",
    "\n",
    "stat, p = mannwhitneyu(nonTypeData,typeData)\n",
    "print('Statistics=%.3f, p=%.3f' % (stat, p))"
   ]
  },
  {
   "cell_type": "markdown",
   "metadata": {},
   "source": [
    "# No Normalization"
   ]
  },
  {
   "cell_type": "code",
   "execution_count": 90,
   "metadata": {},
   "outputs": [
    {
     "name": "stdout",
     "output_type": "stream",
     "text": [
      "Statistics=1510.000, p=0.350\n"
     ]
    }
   ],
   "source": [
    "stat, p = mannwhitneyu(statsNoDup['author experience'],nonTypeStatsNoDup['author experience'])\n",
    "print('Statistics=%.3f, p=%.3f' % (stat, p))"
   ]
  },
  {
   "cell_type": "markdown",
   "metadata": {},
   "source": [
    "# Max Normalization"
   ]
  },
  {
   "cell_type": "code",
   "execution_count": 91,
   "metadata": {},
   "outputs": [
    {
     "name": "stdout",
     "output_type": "stream",
     "text": [
      "Statistics=1567.000, p=0.475\n"
     ]
    }
   ],
   "source": [
    "max_val =  max(statsNoDup['author experience'])\n",
    "typeData = [a / max_val for a in statsNoDup['author experience']]\n",
    "max_val = max(nonTypeStatsNoDup['author experience'])\n",
    "nonTypeData = [a / max_val for a in nonTypeStatsNoDup['author experience']]\n",
    "\n",
    "stat, p = mannwhitneyu(nonTypeData,typeData)\n",
    "print('Statistics=%.3f, p=%.3f' % (stat, p))"
   ]
  },
  {
   "cell_type": "markdown",
   "metadata": {},
   "source": [
    "# Cliff Delta Test"
   ]
  },
  {
   "cell_type": "markdown",
   "metadata": {},
   "source": [
    "## No Normalization"
   ]
  },
  {
   "cell_type": "code",
   "execution_count": 92,
   "metadata": {},
   "outputs": [
    {
     "name": "stdout",
     "output_type": "stream",
     "text": [
      "res: negligible, d: -0.04339562876148242\n"
     ]
    }
   ],
   "source": [
    "d, res = cliffsDelta.cliffsDelta(statsNoDup['author experience'], nonTypeStatsNoDup['author experience'])\n",
    "print('res: {}, d: {}'.format(res, d))"
   ]
  },
  {
   "cell_type": "code",
   "execution_count": 93,
   "metadata": {},
   "outputs": [
    {
     "name": "stdout",
     "output_type": "stream",
     "text": [
      "res: negligible, d: -0.007285397529299968\n"
     ]
    }
   ],
   "source": [
    "max_val =  max(statsNoDup['author experience'])\n",
    "typeData = [a / max_val for a in statsNoDup['author experience']]\n",
    "max_val = max(nonTypeStatsNoDup['author experience'])\n",
    "nonTypeData = [a / max_val for a in nonTypeStatsNoDup['author experience']]\n",
    "d, res = cliffsDelta.cliffsDelta(typeData, nonTypeData)\n",
    "print('res: {}, d: {}'.format(res, d))"
   ]
  },
  {
   "cell_type": "code",
   "execution_count": 33,
   "metadata": {},
   "outputs": [
    {
     "data": {
      "text/plain": [
       "558"
      ]
     },
     "execution_count": 33,
     "metadata": {},
     "output_type": "execute_result"
    }
   ],
   "source": []
  },
  {
   "cell_type": "code",
   "execution_count": null,
   "metadata": {},
   "outputs": [],
   "source": []
  }
 ],
 "metadata": {
  "kernelspec": {
   "display_name": "Python 3",
   "language": "python",
   "name": "python3"
  },
  "language_info": {
   "codemirror_mode": {
    "name": "ipython",
    "version": 3
   },
   "file_extension": ".py",
   "mimetype": "text/x-python",
   "name": "python",
   "nbconvert_exporter": "python",
   "pygments_lexer": "ipython3",
   "version": "3.7.3"
  }
 },
 "nbformat": 4,
 "nbformat_minor": 2
}
